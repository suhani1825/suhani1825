{
  "nbformat": 4,
  "nbformat_minor": 0,
  "metadata": {
    "colab": {
      "provenance": [],
      "authorship_tag": "ABX9TyM/HME86kWzFFSx+N1G4+Kx",
      "include_colab_link": true
    },
    "kernelspec": {
      "name": "python3",
      "display_name": "Python 3"
    },
    "language_info": {
      "name": "python"
    }
  },
  "cells": [
    {
      "cell_type": "markdown",
      "metadata": {
        "id": "view-in-github",
        "colab_type": "text"
      },
      "source": [
        "<a href=\"https://colab.research.google.com/github/suhani1825/suhani1825/blob/main/Copy_of_practical_4_5.ipynb\" target=\"_parent\"><img src=\"https://colab.research.google.com/assets/colab-badge.svg\" alt=\"Open In Colab\"/></a>"
      ]
    },
    {
      "cell_type": "markdown",
      "source": [
        "Practical No:4"
      ],
      "metadata": {
        "id": "S9NQqZNw2eON"
      }
    },
    {
      "cell_type": "code",
      "source": [],
      "metadata": {
        "id": "gjQuVnz-2_mD"
      },
      "execution_count": null,
      "outputs": []
    },
    {
      "cell_type": "code",
      "execution_count": 1,
      "metadata": {
        "colab": {
          "base_uri": "https://localhost:8080/"
        },
        "id": "OK52gexkuLrR",
        "outputId": "a84c9ac5-564c-4f77-91aa-de7b7f628dfd"
      },
      "outputs": [
        {
          "output_type": "stream",
          "name": "stdout",
          "text": [
            "Orignl data:\n",
            "    School code Class     Name  Age  Height  Weight\n",
            "s1        S001     B   sanika   50     180      40\n",
            "s2        S002     B   suhani   34     150      45\n",
            "s3        S003     A    mansi   27     200      32\n",
            "s4        S002     B    palak   10     125      50\n",
            "s5        S001     B      ram   25     195      12\n",
            "s6        S004     A  vaibhav   42     192      39\n"
          ]
        }
      ],
      "source": [
        "import pandas as pd\n",
        "student_data=pd.DataFrame({\n",
        "    'School code':['S001','S002','S003','S002','S001','S004'],\n",
        "    'Class':['B','B','A','B','B','A'],\n",
        "    'Name':['sanika','suhani','mansi','palak','ram','vaibhav'],\n",
        "    'Age':[50,34,27,10,25,42],\n",
        "    'Height':[180,150,200,125,195,192],\n",
        "    'Weight':[40,45,32,50,12,39],\n",
        "},index=['s1','s2','s3','s4','s5','s6'])\n",
        "print(\"Orignl data:\\n\",student_data)"
      ]
    },
    {
      "cell_type": "code",
      "source": [
        "data=student_data.groupby('School code').agg({'Age':['mean','min','max']})\n",
        "print(data)"
      ],
      "metadata": {
        "colab": {
          "base_uri": "https://localhost:8080/"
        },
        "id": "_K_cbuyuyFx-",
        "outputId": "d6600589-b12e-45f1-ebdb-d739bcd356f2"
      },
      "execution_count": null,
      "outputs": [
        {
          "output_type": "stream",
          "name": "stdout",
          "text": [
            "              Age        \n",
            "             mean min max\n",
            "School code              \n",
            "S001         37.5  25  50\n",
            "S002         22.0  10  34\n",
            "S003         27.0  27  27\n",
            "S004         42.0  42  42\n"
          ]
        }
      ]
    },
    {
      "cell_type": "code",
      "source": [
        "df=student_data.groupby(['School code','Class']).agg({'Height':['mean','max'],'Weight':['sum','mean','count']})\n",
        "print(df)"
      ],
      "metadata": {
        "colab": {
          "base_uri": "https://localhost:8080/"
        },
        "id": "hU-MuCXZy53z",
        "outputId": "04cda6a0-3d6e-4223-9b33-8771e376e40b"
      },
      "execution_count": 2,
      "outputs": [
        {
          "output_type": "stream",
          "name": "stdout",
          "text": [
            "                  Height      Weight            \n",
            "                    mean  max    sum  mean count\n",
            "School code Class                               \n",
            "S001        B      187.5  195     52  26.0     2\n",
            "S002        B      137.5  150     95  47.5     2\n",
            "S003        A      200.0  200     32  32.0     1\n",
            "S004        A      192.0  192     39  39.0     1\n"
          ]
        }
      ]
    }
  ]
}